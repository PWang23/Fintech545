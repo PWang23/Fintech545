{
 "cells": [
  {
   "cell_type": "code",
   "execution_count": 54,
   "metadata": {},
   "outputs": [],
   "source": [
    "import pandas as pd\n",
    "import numpy as np\n",
    "from scipy import stats\n",
    "from scipy.optimize import minimize \n",
    "from statsmodels.tsa.arima.model import ARIMA"
   ]
  },
  {
   "cell_type": "markdown",
   "metadata": {},
   "source": [
    "Problem 1 - Price Return Calculation\n",
    "\n",
    "Calculate and compare the expected value and standard deviation of price at time t (P𝑡) ,given each of the 3 types of price returns, assuming rt ~ N(0,σ^2). \n",
    "\n",
    "Simulate each return equation using rt ~ N(0,σ^2) and show the mean and standard deviation match your expectations."
   ]
  },
  {
   "cell_type": "markdown",
   "metadata": {},
   "source": [
    "Problem 1.1\n",
    "\n",
    "Calculate and compare the expected value and standard deviation of price at time t (P𝑡) ,given each of the 3 types of price returns, assuming rt ~ N(0,σ^2). "
   ]
  },
  {
   "cell_type": "code",
   "execution_count": 55,
   "metadata": {},
   "outputs": [],
   "source": [
    "def exp_val_std(method, P0, sigma, mu):\n",
    "    if method == 'Classical_Brownian':\n",
    "        exp_val = P0 + mu\n",
    "        exp_std = sigma\n",
    "    elif method == 'Arithmetic':\n",
    "        exp_val = P0 * (1 + mu)\n",
    "        exp_std = sigma * P0\n",
    "    elif method == 'Geometric_Brownian':\n",
    "        exp_val = np.exp(mu + np.log(P0) + 0.5 * sigma ** 2)\n",
    "        exp_std = np.sqrt(np.exp(sigma ** 2) - 1) * np.exp(mu + np.log(P0) + 0.5 * sigma ** 2)\n",
    "    return exp_val, exp_std"
   ]
  },
  {
   "cell_type": "code",
   "execution_count": 86,
   "metadata": {},
   "outputs": [
    {
     "name": "stdout",
     "output_type": "stream",
     "text": [
      "For Classical_Brownian method, the expected value is 100 and the expected standard deviation is 0.1.\n",
      "For Arithmetic method, the expected value is 100 and the expected standard deviation is 10.0.\n",
      "For Geometric_Brownian method, the expected value is 100.50125208594014 and the expected standard deviation is 10.0753029446204.\n"
     ]
    }
   ],
   "source": [
    "P0 = 100\n",
    "sigma = 0.1\n",
    "mu = 0\n",
    "methods = [\"Classical_Brownian\", \"Arithmetic\", \"Geometric_Brownian\"]\n",
    "for method in methods:\n",
    "    exp_val, exp_std = exp_val_std(method, P0, sigma, mu)\n",
    "    print(\"For {} method, the expected value is {} and the expected standard deviation is {}.\".format(method, exp_val, exp_std))"
   ]
  },
  {
   "cell_type": "markdown",
   "metadata": {},
   "source": [
    "Problem 1.2\n",
    "\n",
    "Simulate each return equation using rt ~ N(0,σ^2) and show the mean and standard deviation match your expectations."
   ]
  },
  {
   "cell_type": "code",
   "execution_count": 87,
   "metadata": {},
   "outputs": [],
   "source": [
    "def price_series(method, P0, t, sigma, mu):\n",
    "    rt = np.random.normal(mu, sigma, t)\n",
    "    P = np.zeros(t)\n",
    "    if method == 'Classical_Brownian':\n",
    "        for i in range(t):\n",
    "            P[i] = P0 + rt[i]\n",
    "    elif method == 'Arithmetic':\n",
    "        for i in range(t):\n",
    "            P[i] = P0 * (1 + rt[i])\n",
    "    elif method == 'Geometric_Brownian':\n",
    "        for i in range(t):\n",
    "            P[i] = P0 * np.exp(rt[i])\n",
    "    return P"
   ]
  },
  {
   "cell_type": "code",
   "execution_count": 88,
   "metadata": {},
   "outputs": [
    {
     "name": "stdout",
     "output_type": "stream",
     "text": [
      "Classical_Brownian\n",
      "Theoretical Expacted Value is 100\n",
      "Simulated Expacted Value is 99.99815662798417\n",
      "Value diff is 0.0018433720158270717\n",
      "Theoretical Standard Deviation is 0.1\n",
      "Simulated Standard Deviation is 0.0987556568176121\n",
      "Standard Deviation diff is 0.0012443431823879053\n",
      " \n",
      "Arithmetic\n",
      "Theoretical Expacted Value is 100\n",
      "Simulated Expacted Value is 100.10988005872944\n",
      "Value diff is -0.10988005872944484\n",
      "Theoretical Standard Deviation is 10.0\n",
      "Simulated Standard Deviation is 9.930546809674302\n",
      "Standard Deviation diff is 0.06945319032569763\n",
      " \n",
      "Geometric_Brownian\n",
      "Theoretical Expacted Value is 100.50125208594014\n",
      "Simulated Expacted Value is 100.44097996457594\n",
      "Value diff is 0.0602721213641928\n",
      "Theoretical Standard Deviation is 10.0753029446204\n",
      "Simulated Standard Deviation is 10.023662034365971\n",
      "Standard Deviation diff is 0.05164091025442907\n",
      " \n"
     ]
    }
   ],
   "source": [
    "t = 10000\n",
    "np.random.seed(0)\n",
    "\n",
    "for method in methods:\n",
    "    P = price_series(method, P0, t, sigma, mu)\n",
    "    exp_val, exp_std = exp_val_std(method, P0, sigma, mu)\n",
    "    simu_val = np.mean(P)\n",
    "    simu_std = np.std(P)\n",
    "    print(\"{}\".format(method))\n",
    "    print(\"Theoretical Expacted Value is {}\".format(exp_val))\n",
    "    print(\"Simulated Expacted Value is {}\".format(simu_val))\n",
    "    print(\"Value diff is {}\".format(exp_val - simu_val))\n",
    "    print(\"Theoretical Standard Deviation is {}\".format(exp_std))\n",
    "    print(\"Simulated Standard Deviation is {}\".format(simu_std))\n",
    "    print(\"Standard Deviation diff is {}\".format(exp_std - simu_std))\n",
    "    print(\" \")"
   ]
  },
  {
   "cell_type": "markdown",
   "metadata": {},
   "source": [
    "Problem 2 - VaR Calculation\n",
    "\n",
    "Implement a function similar to the “return_calculate()” in this week’s code. Allow the user to specify the method of return calculation.\n",
    "\n",
    "Use DailyPrices.csv. Calculate the arithmetic returns for all prices.\n",
    "\n",
    "Remove the mean from the series so that the mean(META)=0\n",
    "\n",
    "Calculate VaR\n",
    "\n",
    "Using a normal distribution.\n",
    "\n",
    "Using a normal distribution with an Exponentially Weighted variance (λ = 0. 94)\n",
    "\n",
    "Using a MLE fitted T distribution.\n",
    "\n",
    "Using a fitted AR(1) model.\n",
    "\n",
    "Using a Historic Simulation.\n",
    "\n",
    "Compare the 5 values."
   ]
  },
  {
   "cell_type": "markdown",
   "metadata": {},
   "source": [
    "Problem 2.1\n",
    "\n",
    "Implement a function similar to the “return_calculate()” in this week’s code. Allow the user to specify the method of return calculation."
   ]
  },
  {
   "cell_type": "code",
   "execution_count": 59,
   "metadata": {},
   "outputs": [],
   "source": [
    "def return_calculate(prices, method=\"DISCRETE\", dateColumn=\"Date\"):\n",
    "    vars = prices.columns\n",
    "    nVars = len(vars)\n",
    "    vars = [var for var in vars if var != dateColumn]\n",
    "    if nVars == len(vars):\n",
    "        raise ValueError(\"dateColumn: \" + dateColumn + \" not in DataFrame: \" + str(vars))\n",
    "    nVars = nVars - 1\n",
    "\n",
    "    p = np.matrix(prices[vars])\n",
    "    n = p.shape[0]\n",
    "    m = p.shape[1]\n",
    "    p2 = np.empty((n-1,m))\n",
    "\n",
    "    for i in range(n-1):\n",
    "        for j in range(m):\n",
    "            p2[i,j] = p[i+1,j] / p[i,j]\n",
    "\n",
    "    if method.upper() == \"DISCRETE\":\n",
    "        p2 = p2 - 1.0\n",
    "    elif method.upper() == \"LOG\":\n",
    "        p2 = np.log(p2)\n",
    "    else:\n",
    "        raise ValueError(\"method: \" + method + \" must be in (\\\"LOG\\\",\\\"DISCRETE\\\")\")\n",
    "\n",
    "    dates = prices[dateColumn][1:n]\n",
    "    out = pd.DataFrame({dateColumn: dates})\n",
    "    for i in range(nVars):\n",
    "        out[vars[i]] = p2[:,i]\n",
    "    return out"
   ]
  },
  {
   "cell_type": "markdown",
   "metadata": {},
   "source": [
    "Problem 2.2\n",
    "\n",
    "Use DailyPrices.csv. Calculate the arithmetic returns for all prices."
   ]
  },
  {
   "cell_type": "code",
   "execution_count": 60,
   "metadata": {},
   "outputs": [
    {
     "name": "stderr",
     "output_type": "stream",
     "text": [
      "/var/folders/mx/h47vz6_d3cj1b2c96lcwngfh0000gn/T/ipykernel_1255/2906147436.py:28: PerformanceWarning: DataFrame is highly fragmented.  This is usually the result of calling `frame.insert` many times, which has poor performance.  Consider joining all columns at once using pd.concat(axis=1) instead. To get a de-fragmented frame, use `newframe = frame.copy()`\n",
      "  out[vars[i]] = p2[:,i]\n"
     ]
    }
   ],
   "source": [
    "prices = pd.read_csv('DailyPrices.csv')\n",
    "returns = return_calculate(prices)"
   ]
  },
  {
   "cell_type": "markdown",
   "metadata": {},
   "source": [
    "Problem 2.3\n",
    "\n",
    "Remove the mean from the series so that the mean(META)=0"
   ]
  },
  {
   "cell_type": "code",
   "execution_count": 61,
   "metadata": {},
   "outputs": [],
   "source": [
    "meta = returns['META'] - returns['META'].mean()"
   ]
  },
  {
   "cell_type": "markdown",
   "metadata": {},
   "source": [
    "Problem 2.4\n",
    "\n",
    "Calculate VaR\n",
    "\n",
    "Using a normal distribution.\n",
    "\n",
    "Using a normal distribution with an Exponentially Weighted variance (λ = 0. 94)\n",
    "\n",
    "Using a MLE fitted T distribution.\n",
    "\n",
    "Using a fitted AR(1) model.\n",
    "\n",
    "Using a Historic Simulation.\n",
    "\n",
    "Compare the 5 values."
   ]
  },
  {
   "cell_type": "markdown",
   "metadata": {},
   "source": [
    "Problem 2.4.1\n",
    "\n",
    "Using a normal distribution."
   ]
  },
  {
   "cell_type": "code",
   "execution_count": 62,
   "metadata": {},
   "outputs": [],
   "source": [
    "def cal_VaR_norm(returns, n=10000, alpha=0.05):\n",
    "    mu = returns.mean()\n",
    "    sigma = returns.std()\n",
    "    simu_returns = np.random.normal(mu, sigma, n)\n",
    "    simu_returns.sort()\n",
    "    VaR_normal = -np.percentile(simu_returns, alpha*100)\n",
    "    return VaR_normal"
   ]
  },
  {
   "cell_type": "code",
   "execution_count": 63,
   "metadata": {},
   "outputs": [
    {
     "name": "stdout",
     "output_type": "stream",
     "text": [
      "VaR_normal is 0.06683120453479682\n"
     ]
    }
   ],
   "source": [
    "VaR_normal = cal_VaR_norm(meta)\n",
    "print(\"VaR_normal is \" + str(VaR_normal))"
   ]
  },
  {
   "cell_type": "markdown",
   "metadata": {},
   "source": [
    "Problem 2.4.2\n",
    "\n",
    "Using a normal distribution with an Exponentially Weighted variance (λ = 0. 94)"
   ]
  },
  {
   "cell_type": "code",
   "execution_count": 64,
   "metadata": {},
   "outputs": [],
   "source": [
    "def exp_weighted_cov(input, lambda_=0.97):\n",
    "    ror = input.values\n",
    "    ror_mean = np.mean(ror, axis=0)\n",
    "    dev = ror - ror_mean\n",
    "    times = dev.shape[0]\n",
    "    weights = np.zeros(times)\n",
    "    \n",
    "    for i in range(times):\n",
    "        weights[times - i - 1]  = (1 - lambda_) * lambda_**i\n",
    "    \n",
    "    weights_mat = np.diag(weights/sum(weights))\n",
    "\n",
    "    cov = np.transpose(dev) @ weights_mat @ dev\n",
    "    return cov"
   ]
  },
  {
   "cell_type": "code",
   "execution_count": 65,
   "metadata": {},
   "outputs": [],
   "source": [
    "def cal_VaR_ew_norm(returns, lambda_=0.94, n=10000, alpha=0.05):\n",
    "    mu = returns.mean()\n",
    "    sigma = np.sqrt(exp_weighted_cov(returns, lambda_=lambda_))\n",
    "    simu_returns = np.random.normal(mu, sigma, n)\n",
    "    VaR_ew = -np.percentile(simu_returns, alpha*100)\n",
    "    return VaR_ew"
   ]
  },
  {
   "cell_type": "code",
   "execution_count": 66,
   "metadata": {},
   "outputs": [
    {
     "name": "stdout",
     "output_type": "stream",
     "text": [
      "VaR_ew is 0.09221037744633959\n"
     ]
    }
   ],
   "source": [
    "VaR_ew = cal_VaR_ew_norm(meta)\n",
    "print(\"VaR_ew is \" + str(VaR_ew))"
   ]
  },
  {
   "cell_type": "markdown",
   "metadata": {},
   "source": [
    "Problem 2.4.3\n",
    "\n",
    "Using a MLE fitted T distribution."
   ]
  },
  {
   "cell_type": "code",
   "execution_count": 67,
   "metadata": {},
   "outputs": [],
   "source": [
    "def MLE_t(params, returns):\n",
    "    df, loc, scale = params\n",
    "    neg_LL = -1 * np.sum(stats.t.logpdf(returns, df=df, loc=loc, scale=scale))\n",
    "    return(neg_LL)"
   ]
  },
  {
   "cell_type": "code",
   "execution_count": 68,
   "metadata": {},
   "outputs": [],
   "source": [
    "def cal_VaR_MLE_t(returns, n=10000, alpha=0.05):\n",
    "    constraints = [\n",
    "        {'type': 'ineq', 'fun': lambda x: x[0] - 1},\n",
    "        {'type': 'ineq', 'fun': lambda x: x[2]}\n",
    "    ]\n",
    "    \n",
    "    res = minimize(MLE_t, x0=[10, returns.mean(), returns.std()], args=(returns,), constraints=constraints)\n",
    "    \n",
    "    df, loc, scale = res.x\n",
    "    sim_returns = stats.t.rvs(df, loc=loc, scale=scale, size=n)\n",
    "    var_t = -np.percentile(sim_returns, alpha * 100)\n",
    "    \n",
    "    return var_t"
   ]
  },
  {
   "cell_type": "code",
   "execution_count": 69,
   "metadata": {},
   "outputs": [
    {
     "name": "stdout",
     "output_type": "stream",
     "text": [
      "VaR_MLE_t is 0.056471534942947196\n"
     ]
    }
   ],
   "source": [
    "VaR_MLE_t = cal_VaR_MLE_t(meta)\n",
    "print(\"VaR_MLE_t is \" + str(VaR_MLE_t))"
   ]
  },
  {
   "cell_type": "markdown",
   "metadata": {},
   "source": [
    "Problem 2.4.4\n",
    "\n",
    "Using a fitted AR(1) model."
   ]
  },
  {
   "cell_type": "code",
   "execution_count": 70,
   "metadata": {},
   "outputs": [],
   "source": [
    "def cal_VaR_AR1(returns, n=10000, alpha=0.05):\n",
    "    #a more general model that extends the ARMA model to non-stationary time series data.\n",
    "    model = ARIMA(returns, order=(1, 0, 0)).fit()\n",
    "    sigma = np.std(model.resid)\n",
    "    sim_returns = np.empty(n)\n",
    "    returns = returns.values\n",
    "    for i in range(n):\n",
    "        sim_returns[i] =  model.params[0] * (returns[-1]) + sigma * np.random.normal()\n",
    "    VaR_AR1 = -np.percentile(sim_returns, alpha*100)\n",
    "    return VaR_AR1"
   ]
  },
  {
   "cell_type": "code",
   "execution_count": 71,
   "metadata": {},
   "outputs": [
    {
     "name": "stdout",
     "output_type": "stream",
     "text": [
      "VaR_AR1 is 0.06532885399515062\n"
     ]
    }
   ],
   "source": [
    "VaR_AR1 = cal_VaR_AR1(meta)\n",
    "print(\"VaR_AR1 is \" + str(VaR_AR1))"
   ]
  },
  {
   "cell_type": "markdown",
   "metadata": {},
   "source": [
    "Problem 2.4.5\n",
    "\n",
    "Using a Historic Simulation."
   ]
  },
  {
   "cell_type": "code",
   "execution_count": 72,
   "metadata": {},
   "outputs": [],
   "source": [
    "def cal_VaR_hist(returns, alpha=0.05):\n",
    "    VaR_hist = -np.percentile(returns, alpha*100)\n",
    "    return VaR_hist"
   ]
  },
  {
   "cell_type": "code",
   "execution_count": 73,
   "metadata": {},
   "outputs": [
    {
     "name": "stdout",
     "output_type": "stream",
     "text": [
      "VaR_hist is 0.0546200790823787\n"
     ]
    }
   ],
   "source": [
    "VaR_hist = cal_VaR_hist(meta)\n",
    "print(\"VaR_hist is \" + str(VaR_hist))"
   ]
  },
  {
   "cell_type": "markdown",
   "metadata": {},
   "source": [
    "Problem 3 - Portfolio VaR Calculation\n",
    "Using Portfolio.csv and DailyPrices.csv. Assume the expected return on all stocks is 0.\n",
    "\n",
    "This file contains the stock holdings of 3 portfolios. You own each of these portfolios. Using an exponentially weighted covariance with lambda = 0.94, calculate the VaR of each portfolio as well as your total VaR (VaR of the total holdings). Express VaR as a $.\n",
    "\n",
    "Discuss your methods and your results.\n",
    "\n",
    "Choose a different model for returns and calculate VaR again. Why did you choose that model? How did the model change affect the results?"
   ]
  },
  {
   "cell_type": "markdown",
   "metadata": {},
   "source": [
    "Problem 3.1 - Portfolio VaR Calculation\n",
    "Using Portfolio.csv and DailyPrices.csv. Assume the expected return on all stocks is 0.\n",
    "\n",
    "This file contains the stock holdings of 3 portfolios. You own each of these portfolios. Using an exponentially weighted covariance with lambda = 0.94, calculate the VaR of each portfolio as well as your total VaR (VaR of the total holdings). Express VaR as a $."
   ]
  },
  {
   "cell_type": "code",
   "execution_count": 74,
   "metadata": {},
   "outputs": [],
   "source": [
    "portfolio = pd.read_csv(\"portfolio.csv\")"
   ]
  },
  {
   "cell_type": "code",
   "execution_count": 75,
   "metadata": {},
   "outputs": [],
   "source": [
    "def get_single_portfolio(portfolio, prices, portfolio_code):\n",
    "    assets = portfolio[portfolio[\"Portfolio\"] == portfolio_code]\n",
    "        \n",
    "    codes = list(assets[\"Stock\"])\n",
    "    assets_prices = prices[[\"Date\"] + codes].copy()\n",
    "    \n",
    "    Total_Value = prices[codes].tail(1).values.dot(assets[\"Holding\"].values)[0]\n",
    "    holdings = assets[\"Holding\"].values\n",
    "\n",
    "    asset_values = holdings.reshape(-1, 1) * prices[codes].tail(1).T.values\n",
    "    delta = asset_values / Total_Value\n",
    "    \n",
    "    return Total_Value, assets_prices, holdings, delta\n"
   ]
  },
  {
   "cell_type": "code",
   "execution_count": 76,
   "metadata": {},
   "outputs": [],
   "source": [
    "def get_all_portfolio(portfolio, prices):\n",
    "    assets = portfolio.drop('Portfolio',axis=1)\n",
    "    assets = assets.groupby([\"Stock\"], as_index=False)[\"Holding\"].sum()\n",
    "        \n",
    "    codes = list(assets[\"Stock\"])\n",
    "    assets_prices = prices[[\"Date\"] + codes].copy()\n",
    "    \n",
    "    Total_Value = prices[codes].tail(1).values.dot(assets[\"Holding\"].values)[0]\n",
    "    holdings = assets[\"Holding\"].values\n",
    "\n",
    "    asset_values = holdings.reshape(-1, 1) * prices[codes].tail(1).T.values\n",
    "    delta = asset_values / Total_Value\n",
    "    \n",
    "    return Total_Value, assets_prices, holdings, delta"
   ]
  },
  {
   "cell_type": "code",
   "execution_count": 77,
   "metadata": {},
   "outputs": [],
   "source": [
    "Total_Value_A, assets_prices_A, holdings_A, delta_A = get_single_portfolio(portfolio, prices, \"A\")\n",
    "Total_Value_B, assets_prices_B, holdings_B, delta_B = get_single_portfolio(portfolio, prices, \"B\")\n",
    "Total_Value_C, assets_prices_C, holdings_C, delta_C = get_single_portfolio(portfolio, prices, \"C\")\n",
    "Total_Value_All, assets_prices_All, holdings_All, delta_All = get_all_portfolio(portfolio, prices)"
   ]
  },
  {
   "cell_type": "code",
   "execution_count": 78,
   "metadata": {},
   "outputs": [],
   "source": [
    "def cal_delta_VaR(Total_Value, assets_prices, delta, alpha=0.05, lambda_=0.94):\n",
    "    returns = return_calculate(assets_prices).drop('Date', axis=1)\n",
    "    assets_cov = exp_weighted_cov(returns, lambda_)\n",
    "    \n",
    "    delta_norm_VaR = -Total_Value * stats.norm.ppf(alpha) * np.sqrt(delta.T @ assets_cov @ delta)\n",
    "    \n",
    "    return delta_norm_VaR.item()"
   ]
  },
  {
   "cell_type": "code",
   "execution_count": 79,
   "metadata": {},
   "outputs": [],
   "source": [
    "delta_var_A = cal_delta_VaR(Total_Value_A, assets_prices_A, delta_A)\n",
    "delta_var_B = cal_delta_VaR(Total_Value_B, assets_prices_B, delta_B)\n",
    "delta_var_C = cal_delta_VaR(Total_Value_C, assets_prices_C, delta_C)\n",
    "delta_var_All = cal_delta_VaR(Total_Value_All, assets_prices_All, delta_All)"
   ]
  },
  {
   "cell_type": "code",
   "execution_count": 80,
   "metadata": {},
   "outputs": [
    {
     "name": "stdout",
     "output_type": "stream",
     "text": [
      "Delta Normal VaR of portfolio A is $5670.202920147334\n",
      "Delta Normal VaR of portfolio B is $4494.598410778259\n",
      "Delta Normal VaR of portfolio C is $3786.5890108090503\n",
      "Delta Normal VaR of portfolio All is $13577.07541897708\n"
     ]
    }
   ],
   "source": [
    "print(\"Delta Normal VaR of portfolio A is ${}\".format(delta_var_A))\n",
    "print(\"Delta Normal VaR of portfolio B is ${}\".format(delta_var_B))\n",
    "print(\"Delta Normal VaR of portfolio C is ${}\".format(delta_var_C))\n",
    "print(\"Delta Normal VaR of All is ${}\".format(delta_var_All))"
   ]
  },
  {
   "cell_type": "markdown",
   "metadata": {},
   "source": [
    "Problem 3.2\n",
    "\n",
    "Choose a different model for returns and calculate VaR again. Why did you choose that model? How did the model change affect the results?"
   ]
  },
  {
   "cell_type": "code",
   "execution_count": 83,
   "metadata": {},
   "outputs": [],
   "source": [
    "def cal_hist_VaR(Total_Value, assets_prices, holdings, alpha=0.05):\n",
    "    returns = return_calculate(assets_prices).drop(\"Date\", axis=1)\n",
    "    assets_prices = assets_prices.drop('Date',axis=1)\n",
    "    simu_returns = returns.sample(1000, replace=True)\n",
    "    simu_prices = np.dot(simu_returns* assets_prices.tail(1).values.reshape(assets_prices.shape[1],),holdings)\n",
    "\n",
    "    hist_VaR = -np.percentile(simu_prices, alpha*100)\n",
    "\n",
    "    return hist_VaR"
   ]
  },
  {
   "cell_type": "code",
   "execution_count": 84,
   "metadata": {},
   "outputs": [],
   "source": [
    "hist_var_A = cal_hist_VaR(Total_Value_A, assets_prices_A, holdings_A)\n",
    "hist_var_B = cal_hist_VaR(Total_Value_B, assets_prices_B, holdings_B)\n",
    "hist_var_C = cal_hist_VaR(Total_Value_C, assets_prices_C, holdings_C)\n",
    "hist_var_All = cal_hist_VaR(Total_Value_All, assets_prices_All, holdings_All)"
   ]
  },
  {
   "cell_type": "code",
   "execution_count": 85,
   "metadata": {},
   "outputs": [
    {
     "name": "stdout",
     "output_type": "stream",
     "text": [
      "Historical VaR of portfolio A is $9005.067216160829\n",
      "Historical VaR of portfolio B is $7273.769164086196\n",
      "Historical VaR of portfolio C is $5773.472215034216\n",
      "Historical VaR of portfolio All is $21103.398010768073\n"
     ]
    }
   ],
   "source": [
    "print(\"Historical VaR of portfolio A is ${}\".format(hist_var_A))\n",
    "print(\"Historical VaR of portfolio B is ${}\".format(hist_var_B))\n",
    "print(\"Historical VaR of portfolio C is ${}\".format(hist_var_C))\n",
    "print(\"Historical VaR of All is ${}\".format(hist_var_All))"
   ]
  }
 ],
 "metadata": {
  "kernelspec": {
   "display_name": "Python 3.9.12 ('base')",
   "language": "python",
   "name": "python3"
  },
  "language_info": {
   "codemirror_mode": {
    "name": "ipython",
    "version": 3
   },
   "file_extension": ".py",
   "mimetype": "text/x-python",
   "name": "python",
   "nbconvert_exporter": "python",
   "pygments_lexer": "ipython3",
   "version": "3.9.12"
  },
  "orig_nbformat": 4,
  "vscode": {
   "interpreter": {
    "hash": "bada05c741908938772dd81041b6c561c9f7d1f74c82862b4ca2e2d664fb5f14"
   }
  }
 },
 "nbformat": 4,
 "nbformat_minor": 2
}
