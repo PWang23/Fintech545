{
 "cells": [
  {
   "cell_type": "code",
   "execution_count": 3,
   "metadata": {},
   "outputs": [],
   "source": [
    "import numpy as np\n",
    "import pandas as pd\n",
    "from scipy.stats import kurtosis, skew, t, ttest_1samp, norm"
   ]
  },
  {
   "cell_type": "markdown",
   "metadata": {},
   "source": [
    "Problem 1\n",
    "Remember from last week we discussed that skewness and kurtosis functions in statistical packages are often biased. Is your function biased? Prove or disprove your hypothesis."
   ]
  },
  {
   "cell_type": "markdown",
   "metadata": {},
   "source": [
    "Steps\n",
    "1. Sample 10, 100, 1,000, 10,000 standardized random normal values.\n",
    "2. Calculate the skewness and kurtosis\n",
    "3. Sample the skewness and kurtosis by repeating steps 1 and 2 100 times.\n",
    "4. Calculate the T statistic and the p-value (μ0 = 0).\n",
    "5. If the value is lower than your threshold (typically 5%), then you reject the hypothesis that the kurtosis function is unbiased."
   ]
  },
  {
   "cell_type": "code",
   "execution_count": 12,
   "metadata": {},
   "outputs": [],
   "source": [
    "def tTest(sampleNum, target): \n",
    "    times = 100\n",
    "\n",
    "    samples = np.empty(times)\n",
    "    for i in range(times):\n",
    "        if target == 'skewness':\n",
    "            samples[i] = skew(np.random.normal(0, 1,sampleNum))\n",
    "        elif target == 'kurtosis':\n",
    "            samples[i] = kurtosis(np.random.normal(0, 1,sampleNum))\n",
    "\n",
    "    t_stat, p_val = ttest_1samp(samples, popmean=0)\n",
    "\n",
    "    if p_val < 0.05:\n",
    "        print(\"{} p-value is {}.\\nReject the null hypothesis.\\n\" .format(target, p_val))\n",
    "    else:\n",
    "        print(\"{} p-value is {}.\\nFail to reject the null hypothesis.\\n\" .format(target, p_val))\n",
    "    return"
   ]
  },
  {
   "cell_type": "code",
   "execution_count": 13,
   "metadata": {},
   "outputs": [
    {
     "name": "stdout",
     "output_type": "stream",
     "text": [
      "10 samples: \n",
      "skewness p-value is 0.767314189748661.\n",
      "Fail to reject the null hypothesis.\n",
      "\n",
      "kurtosis p-value is 2.555351592378225e-15.\n",
      "Reject the null hypothesis.\n",
      "\n",
      "100 samples: \n",
      "skewness p-value is 0.9567289152766983.\n",
      "Fail to reject the null hypothesis.\n",
      "\n",
      "kurtosis p-value is 0.916747622125282.\n",
      "Fail to reject the null hypothesis.\n",
      "\n",
      "1000 samples: \n",
      "skewness p-value is 0.247015894960639.\n",
      "Fail to reject the null hypothesis.\n",
      "\n",
      "kurtosis p-value is 0.6069190122107347.\n",
      "Fail to reject the null hypothesis.\n",
      "\n",
      "10000 samples: \n",
      "skewness p-value is 0.8445143483980342.\n",
      "Fail to reject the null hypothesis.\n",
      "\n",
      "kurtosis p-value is 0.742155836791117.\n",
      "Fail to reject the null hypothesis.\n",
      "\n"
     ]
    }
   ],
   "source": [
    "sample = [10, 100, 1000, 10000]\n",
    "\n",
    "for num in sample:\n",
    "    print(\"{} samples: \" .format(num))\n",
    "    tTest(num, 'skewness')\n",
    "    tTest(num, 'kurtosis')"
   ]
  }
 ],
 "metadata": {
  "kernelspec": {
   "display_name": "Python 3.9.12 ('base')",
   "language": "python",
   "name": "python3"
  },
  "language_info": {
   "codemirror_mode": {
    "name": "ipython",
    "version": 3
   },
   "file_extension": ".py",
   "mimetype": "text/x-python",
   "name": "python",
   "nbconvert_exporter": "python",
   "pygments_lexer": "ipython3",
   "version": "3.9.12"
  },
  "orig_nbformat": 4,
  "vscode": {
   "interpreter": {
    "hash": "bada05c741908938772dd81041b6c561c9f7d1f74c82862b4ca2e2d664fb5f14"
   }
  }
 },
 "nbformat": 4,
 "nbformat_minor": 2
}
