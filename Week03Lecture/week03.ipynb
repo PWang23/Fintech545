{
 "cells": [
  {
   "cell_type": "code",
   "execution_count": 29,
   "metadata": {},
   "outputs": [],
   "source": [
    "import numpy as np\n",
    "from scipy.linalg import cholesky, eigvals\n",
    "import random\n",
    "import pandas as pd\n",
    "import matplotlib.pyplot as plt"
   ]
  },
  {
   "cell_type": "code",
   "execution_count": 30,
   "metadata": {},
   "outputs": [],
   "source": [
    "# Cholesky that assumes PD matrix\n",
    "def chol_pd(a):\n",
    "    n = a.shape[0]\n",
    "    root = np.zeros((n, n))\n",
    "\n",
    "    for j in range(n):\n",
    "        s = 0\n",
    "        if j > 0:\n",
    "            s = root[j, :j].dot(root[j, :j])\n",
    "        root[j, j] = np.sqrt(a[j, j] - s)\n",
    "\n",
    "        ir = 1 / root[j, j]\n",
    "        for i in range(j + 1, n):\n",
    "            s = root[i, :j].dot(root[j, :j])\n",
    "            root[i, j] = (a[i, j] - s) * ir\n",
    "    \n",
    "    return root"
   ]
  },
  {
   "cell_type": "code",
   "execution_count": 31,
   "metadata": {},
   "outputs": [],
   "source": [
    "n = 5\n",
    "sigma = np.full((n, n), 0.9)\n",
    "np.fill_diagonal(sigma, 1)\n",
    "\n",
    "root = chol_pd(sigma)\n",
    "\n",
    "assert np.allclose(root @ root.T, sigma)\n",
    "root2 = cholesky(sigma, lower=True)\n",
    "assert np.allclose(root, root2)"
   ]
  },
  {
   "cell_type": "code",
   "execution_count": 32,
   "metadata": {},
   "outputs": [
    {
     "data": {
      "text/plain": [
       "array([4.64053565e+00+0.j, 7.58008172e-17+0.j, 1.59464350e-01+0.j,\n",
       "       1.00000000e-01+0.j, 1.00000000e-01+0.j])"
      ]
     },
     "execution_count": 32,
     "metadata": {},
     "output_type": "execute_result"
    }
   ],
   "source": [
    "#make the matrix PSD\n",
    "sigma[0, 1] = 1.0\n",
    "sigma[1, 0] = 1.0\n",
    "eigvals(sigma)\n"
   ]
  },
  {
   "cell_type": "code",
   "execution_count": 33,
   "metadata": {},
   "outputs": [],
   "source": [
    "#Cholesky that assumes PSD\n",
    "def chol_psd(a):\n",
    "    n = a.shape[0]\n",
    "    root = np.zeros((n, n))\n",
    "\n",
    "    for j in range(n):\n",
    "        s = 0.0\n",
    "        if j > 0:\n",
    "            s = np.dot(root[j, :j], root[j, :j])\n",
    "        temp = a[j, j] - s\n",
    "        if temp <= 0:\n",
    "            temp = 0.0\n",
    "        root[j, j] = np.sqrt(temp)\n",
    "\n",
    "        if root[j, j] == 0.0:\n",
    "            root[j, j+1:] = 0.0\n",
    "        else:\n",
    "            ir = 1.0 / root[j, j]\n",
    "            for i in range(j + 1, n):\n",
    "                s = np.dot(root[i, :j], root[j, :j])\n",
    "                root[i, j] = (a[i, j] - s) * ir\n",
    "    return root"
   ]
  },
  {
   "cell_type": "code",
   "execution_count": 34,
   "metadata": {},
   "outputs": [
    {
     "data": {
      "text/plain": [
       "True"
      ]
     },
     "execution_count": 34,
     "metadata": {},
     "output_type": "execute_result"
    }
   ],
   "source": [
    "root = chol_psd(sigma)\n",
    "\n",
    "np.allclose(root @ root.T, sigma)\n",
    "\n",
    "#root2 = cholesky(sigma, lower=True)"
   ]
  },
  {
   "cell_type": "code",
   "execution_count": 35,
   "metadata": {},
   "outputs": [],
   "source": [
    "#make the matrix slightly non-definite\n",
    "sigma[0, 1] = 0.7357\n",
    "sigma[1, 0] = 0.7357\n",
    "\n",
    "eigvals = eigvals(sigma)\n",
    "\n",
    "root = chol_psd(sigma)"
   ]
  },
  {
   "cell_type": "code",
   "execution_count": 46,
   "metadata": {},
   "outputs": [
    {
     "name": "stdout",
     "output_type": "stream",
     "text": [
      "[[-1.2259071267130286 0.48453092696177086 0.4284650214005919\n",
      "  0.5909903193639889 -0.7687544406707938]\n",
      " [0.7007133170211296 -1.0732083543679476 1.2690196402883163\n",
      "  -1.343086506474702 -0.6284131015787695]\n",
      " [None None -2.7411917120407177 0.2315219961746303 0.5129622012676365]\n",
      " [None -0.5820973090889364 -1.1734330850091814 0.4903522253314527\n",
      "  -1.0808749746214548]\n",
      " [0.9111964577485349 None -1.313903116782275 -0.0702706363961844\n",
      "  1.4339471840168998]\n",
      " [0.45681691610958947 1.0365750358033006 None -0.9335737286548141\n",
      "  0.6140159169229719]\n",
      " [-0.09680603229471765 0.30258588015800497 -1.0733297951328051 None\n",
      "  -0.5769203816975912]\n",
      " [1.4599798805406379 -0.8240226224633831 -1.5123911073877334 None None]\n",
      " [0.7440693675934162 0.41312874582999215 -0.2051241552956275\n",
      "  0.7136351578362544 -0.43171849684761593]\n",
      " [-0.8749629864429733 1.570014390445903 0.12667500529070483 None\n",
      "  0.7509079900232819]]\n"
     ]
    }
   ],
   "source": [
    "#Generate some random numbers with missing values.\n",
    "def generate_with_missing(n, m, pmiss=0.25):\n",
    "    x = np.empty((n, m), dtype=object)\n",
    "\n",
    "    for i in range(n):\n",
    "        for j in range(m):\n",
    "            if random.random() >= pmiss:\n",
    "                x[i, j] = random.gauss(0, 1)\n",
    "    return x\n",
    "\n",
    "np.random.seed(2)\n",
    "x = generate_with_missing(10, 5, pmiss=0.2)\n",
    "print(x)\n",
    "#np.cov(x) #should return error"
   ]
  },
  {
   "cell_type": "code",
   "execution_count": 44,
   "metadata": {},
   "outputs": [],
   "source": [
    "#calculate either the covariance or correlation function when there are missing values\n",
    "def missing_cov(x, skipMiss=True, fun=np.cov):\n",
    "    n, m = x.shape\n",
    "    nMiss = np.count_nonzero(np.equal(x, None), axis=0)\n",
    "\n",
    "    if np.sum(nMiss) == 0:\n",
    "        return fun(x)\n",
    "\n",
    "    idxMissing = []\n",
    "    for j in range(m):\n",
    "        idxMissing.append(np.where(np.equal((x[:, j]), None))[0])\n",
    "\n",
    "    if skipMiss:\n",
    "        rows = set(range(n))\n",
    "        for c in range(m):\n",
    "            for rm in idxMissing[c]:\n",
    "                rows.remove(rm)\n",
    "        rows = np.sort(list(rows))\n",
    "        return fun(x[rows, :])\n",
    "    else:\n",
    "        out = np.empty((m, m), dtype=float)\n",
    "        for i in range(m):\n",
    "            for j in range(i, m):\n",
    "                rows = set(range(n))\n",
    "                for c in (i, j):\n",
    "                    for rm in idxMissing[c]:\n",
    "                        rows.remove(rm)\n",
    "                rows = np.sort(list(rows))\n",
    "                out[i, j] = fun(x[rows, [i, j]])[0, 1]\n",
    "                if i != j:\n",
    "                    out[j, i] = out[i, j]\n",
    "        return out"
   ]
  },
  {
   "cell_type": "code",
   "execution_count": 45,
   "metadata": {},
   "outputs": [
    {
     "ename": "KeyError",
     "evalue": "0",
     "output_type": "error",
     "traceback": [
      "\u001b[0;31m---------------------------------------------------------------------------\u001b[0m",
      "\u001b[0;31mKeyError\u001b[0m                                  Traceback (most recent call last)",
      "\u001b[1;32m/Users/wangyuanzhe/Desktop/Y1S2/Fintech545/Week03Lecture/week03.ipynb Cell 10\u001b[0m in \u001b[0;36m<cell line: 1>\u001b[0;34m()\u001b[0m\n\u001b[0;32m----> <a href='vscode-notebook-cell:/Users/wangyuanzhe/Desktop/Y1S2/Fintech545/Week03Lecture/week03.ipynb#X12sZmlsZQ%3D%3D?line=0'>1</a>\u001b[0m skipMiss \u001b[39m=\u001b[39m missing_cov(x)\n",
      "\u001b[1;32m/Users/wangyuanzhe/Desktop/Y1S2/Fintech545/Week03Lecture/week03.ipynb Cell 10\u001b[0m in \u001b[0;36mmissing_cov\u001b[0;34m(x, skipMiss, fun)\u001b[0m\n\u001b[1;32m     <a href='vscode-notebook-cell:/Users/wangyuanzhe/Desktop/Y1S2/Fintech545/Week03Lecture/week03.ipynb#X12sZmlsZQ%3D%3D?line=14'>15</a>\u001b[0m \u001b[39mfor\u001b[39;00m c \u001b[39min\u001b[39;00m \u001b[39mrange\u001b[39m(m):\n\u001b[1;32m     <a href='vscode-notebook-cell:/Users/wangyuanzhe/Desktop/Y1S2/Fintech545/Week03Lecture/week03.ipynb#X12sZmlsZQ%3D%3D?line=15'>16</a>\u001b[0m     \u001b[39mfor\u001b[39;00m rm \u001b[39min\u001b[39;00m idxMissing[c]:\n\u001b[0;32m---> <a href='vscode-notebook-cell:/Users/wangyuanzhe/Desktop/Y1S2/Fintech545/Week03Lecture/week03.ipynb#X12sZmlsZQ%3D%3D?line=16'>17</a>\u001b[0m         rows\u001b[39m.\u001b[39;49mremove(rm)\n\u001b[1;32m     <a href='vscode-notebook-cell:/Users/wangyuanzhe/Desktop/Y1S2/Fintech545/Week03Lecture/week03.ipynb#X12sZmlsZQ%3D%3D?line=17'>18</a>\u001b[0m rows \u001b[39m=\u001b[39m np\u001b[39m.\u001b[39msort(\u001b[39mlist\u001b[39m(rows))\n\u001b[1;32m     <a href='vscode-notebook-cell:/Users/wangyuanzhe/Desktop/Y1S2/Fintech545/Week03Lecture/week03.ipynb#X12sZmlsZQ%3D%3D?line=18'>19</a>\u001b[0m \u001b[39mreturn\u001b[39;00m fun(x[rows, :])\n",
      "\u001b[0;31mKeyError\u001b[0m: 0"
     ]
    }
   ],
   "source": [
    "skipMiss = missing_cov(x)\n"
   ]
  },
  {
   "cell_type": "code",
   "execution_count": null,
   "metadata": {},
   "outputs": [],
   "source": [
    "pairwise = missing_cov(x, skipMiss=False)\n",
    "eigvals(pairwise)\n",
    "\n",
    "root = chol_psd(skipMiss)\n",
    "root = chol_psd(pairwise)"
   ]
  },
  {
   "cell_type": "code",
   "execution_count": 91,
   "metadata": {},
   "outputs": [],
   "source": [
    "#Look at Exponential Weights\n",
    "def populateWeights(x, w, cw, λ):\n",
    "    n = len(x)\n",
    "    tw = 0.0\n",
    "    for i in range(n):\n",
    "        x[i] = i+1\n",
    "        w[i] = (1-λ)*(λ**i)\n",
    "        tw += w[i]\n",
    "        cw[i] = tw\n",
    "    for i in range(n):\n",
    "        w[i] = w[i]/tw\n",
    "        cw[i] = cw[i]/tw"
   ]
  },
  {
   "cell_type": "code",
   "execution_count": 92,
   "metadata": {},
   "outputs": [],
   "source": [
    "weights = pd.DataFrame()\n",
    "cumulative_weights = pd.DataFrame()\n",
    "n=100\n",
    "x = np.empty(n)\n",
    "w = np.empty(n)\n",
    "cumulative_w = np.empty(n)"
   ]
  },
  {
   "cell_type": "code",
   "execution_count": 94,
   "metadata": {},
   "outputs": [
    {
     "data": {
      "text/html": [
       "<div>\n",
       "<style scoped>\n",
       "    .dataframe tbody tr th:only-of-type {\n",
       "        vertical-align: middle;\n",
       "    }\n",
       "\n",
       "    .dataframe tbody tr th {\n",
       "        vertical-align: top;\n",
       "    }\n",
       "\n",
       "    .dataframe thead th {\n",
       "        text-align: right;\n",
       "    }\n",
       "</style>\n",
       "<table border=\"1\" class=\"dataframe\">\n",
       "  <thead>\n",
       "    <tr style=\"text-align: right;\">\n",
       "      <th></th>\n",
       "      <th>x</th>\n",
       "      <th>λ=0.75</th>\n",
       "    </tr>\n",
       "  </thead>\n",
       "  <tbody>\n",
       "    <tr>\n",
       "      <th>0</th>\n",
       "      <td>1.0</td>\n",
       "      <td>2.500000e-01</td>\n",
       "    </tr>\n",
       "    <tr>\n",
       "      <th>1</th>\n",
       "      <td>2.0</td>\n",
       "      <td>1.875000e-01</td>\n",
       "    </tr>\n",
       "    <tr>\n",
       "      <th>2</th>\n",
       "      <td>3.0</td>\n",
       "      <td>1.406250e-01</td>\n",
       "    </tr>\n",
       "    <tr>\n",
       "      <th>3</th>\n",
       "      <td>4.0</td>\n",
       "      <td>1.054688e-01</td>\n",
       "    </tr>\n",
       "    <tr>\n",
       "      <th>4</th>\n",
       "      <td>5.0</td>\n",
       "      <td>7.910156e-02</td>\n",
       "    </tr>\n",
       "    <tr>\n",
       "      <th>...</th>\n",
       "      <td>...</td>\n",
       "      <td>...</td>\n",
       "    </tr>\n",
       "    <tr>\n",
       "      <th>95</th>\n",
       "      <td>96.0</td>\n",
       "      <td>3.378781e-13</td>\n",
       "    </tr>\n",
       "    <tr>\n",
       "      <th>96</th>\n",
       "      <td>97.0</td>\n",
       "      <td>2.534086e-13</td>\n",
       "    </tr>\n",
       "    <tr>\n",
       "      <th>97</th>\n",
       "      <td>98.0</td>\n",
       "      <td>1.900564e-13</td>\n",
       "    </tr>\n",
       "    <tr>\n",
       "      <th>98</th>\n",
       "      <td>99.0</td>\n",
       "      <td>1.425423e-13</td>\n",
       "    </tr>\n",
       "    <tr>\n",
       "      <th>99</th>\n",
       "      <td>100.0</td>\n",
       "      <td>1.069067e-13</td>\n",
       "    </tr>\n",
       "  </tbody>\n",
       "</table>\n",
       "<p>100 rows × 2 columns</p>\n",
       "</div>"
      ],
      "text/plain": [
       "        x        λ=0.75\n",
       "0     1.0  2.500000e-01\n",
       "1     2.0  1.875000e-01\n",
       "2     3.0  1.406250e-01\n",
       "3     4.0  1.054688e-01\n",
       "4     5.0  7.910156e-02\n",
       "..    ...           ...\n",
       "95   96.0  3.378781e-13\n",
       "96   97.0  2.534086e-13\n",
       "97   98.0  1.900564e-13\n",
       "98   99.0  1.425423e-13\n",
       "99  100.0  1.069067e-13\n",
       "\n",
       "[100 rows x 2 columns]"
      ]
     },
     "execution_count": 94,
     "metadata": {},
     "output_type": "execute_result"
    }
   ],
   "source": [
    "#calculated weights λ=75%\n",
    "populateWeights(x, w, cumulative_w, 0.75)\n",
    "weights['x'] = x\n",
    "weights['λ=0.75'] = w\n",
    "cumulative_weights['x'] = x\n",
    "cumulative_weights['λ=0.75'] = cumulative_w\n",
    "weights"
   ]
  },
  {
   "cell_type": "code",
   "execution_count": 95,
   "metadata": {},
   "outputs": [
    {
     "data": {
      "text/plain": [
       "array([0.25      , 0.4375    , 0.578125  , 0.68359375, 0.76269531,\n",
       "       0.82202148, 0.86651611, 0.89988708, 0.92491531, 0.94368649,\n",
       "       0.95776486, 0.96832365, 0.97624274, 0.98218205, 0.98663654,\n",
       "       0.9899774 , 0.99248305, 0.99436229, 0.99577172, 0.99682879,\n",
       "       0.99762159, 0.99821619, 0.99866214, 0.99899661, 0.99924746,\n",
       "       0.99943559, 0.99957669, 0.99968252, 0.99976189, 0.99982142,\n",
       "       0.99986606, 0.99989955, 0.99992466, 0.9999435 , 0.99995762,\n",
       "       0.99996822, 0.99997616, 0.99998212, 0.99998659, 0.99998994,\n",
       "       0.99999246, 0.99999434, 0.99999576, 0.99999682, 0.99999761,\n",
       "       0.99999821, 0.99999866, 0.99999899, 0.99999924, 0.99999943,\n",
       "       0.99999958, 0.99999968, 0.99999976, 0.99999982, 0.99999987,\n",
       "       0.9999999 , 0.99999992, 0.99999994, 0.99999996, 0.99999997,\n",
       "       0.99999998, 0.99999998, 0.99999999, 0.99999999, 0.99999999,\n",
       "       0.99999999, 1.        , 1.        , 1.        , 1.        ,\n",
       "       1.        , 1.        , 1.        , 1.        , 1.        ,\n",
       "       1.        , 1.        , 1.        , 1.        , 1.        ,\n",
       "       1.        , 1.        , 1.        , 1.        , 1.        ,\n",
       "       1.        , 1.        , 1.        , 1.        , 1.        ,\n",
       "       1.        , 1.        , 1.        , 1.        , 1.        ,\n",
       "       1.        , 1.        , 1.        , 1.        , 1.        ])"
      ]
     },
     "execution_count": 95,
     "metadata": {},
     "output_type": "execute_result"
    }
   ],
   "source": [
    "cumulative_w"
   ]
  },
  {
   "cell_type": "code",
   "execution_count": 22,
   "metadata": {},
   "outputs": [],
   "source": [
    "#calculated weights λ=90%\n",
    "populateWeights(x, w, cumulative_w, 0.90)\n",
    "weights['λ=0.90'] = w\n",
    "cumulative_weights['λ=0.90'] = cumulative_w\n",
    "\n",
    "#calculated weights λ=97%\n",
    "populateWeights(x, w, cumulative_w, 0.97)\n",
    "weights['λ=0.97'] = w\n",
    "cumulative_weights['λ=0.97'] = cumulative_w\n",
    "\n",
    "#calculated weights λ=99%\n",
    "populateWeights(x, w, cumulative_w, 0.99)\n",
    "weights['λ=0.99'] = w\n",
    "cumulative_weights['λ=0.99'] = cumulative_w"
   ]
  },
  {
   "cell_type": "code",
   "execution_count": 23,
   "metadata": {},
   "outputs": [
    {
     "name": "stdout",
     "output_type": "stream",
     "text": [
      "        x        λ=0.75    λ=0.90    λ=0.97    λ=0.99\n",
      "0     1.0  2.500000e-01  0.100003  0.031498  0.015774\n",
      "1     2.0  1.875000e-01  0.090002  0.030553  0.015616\n",
      "2     3.0  1.406250e-01  0.081002  0.029636  0.015460\n",
      "3     4.0  1.054688e-01  0.072902  0.028747  0.015305\n",
      "4     5.0  7.910156e-02  0.065612  0.027885  0.015152\n",
      "..    ...           ...       ...       ...       ...\n",
      "95   96.0  3.378781e-13  0.000004  0.001744  0.006071\n",
      "96   97.0  2.534086e-13  0.000004  0.001692  0.006011\n",
      "97   98.0  1.900564e-13  0.000004  0.001641  0.005950\n",
      "98   99.0  1.425423e-13  0.000003  0.001592  0.005891\n",
      "99  100.0  1.069067e-13  0.000003  0.001544  0.005832\n",
      "\n",
      "[100 rows x 5 columns]\n"
     ]
    }
   ],
   "source": [
    "print(weights)"
   ]
  },
  {
   "cell_type": "code",
   "execution_count": 26,
   "metadata": {},
   "outputs": [
    {
     "data": {
      "image/png": "[encoded data removed]",
      "text/plain": [
       "<Figure size 432x288 with 1 Axes>"
      ]
     },
     "metadata": {
      "needs_background": "light"
     },
     "output_type": "display_data"
    }
   ],
   "source": [
    "#plot Weights\n",
    "for i in range(1, len(weights.columns)):\n",
    "    plt.plot(weights['x'], weights.iloc[:, i])\n",
    "plt.title(\"Weights\")\n",
    "plt.legend(weights.columns[1:])\n",
    "plt.show()"
   ]
  },
  {
   "cell_type": "code",
   "execution_count": 27,
   "metadata": {},
   "outputs": [
    {
     "data": {
      "image/png": "[encoded data removed]",
      "text/plain": [
       "<Figure size 432x288 with 1 Axes>"
      ]
     },
     "metadata": {
      "needs_background": "light"
     },
     "output_type": "display_data"
    }
   ],
   "source": [
    "#plot the cumulative weights\n",
    "for i in range(1, len(cumulative_weights.columns)):\n",
    "    plt.plot(cumulative_weights['x'], cumulative_weights.iloc[:, i])\n",
    "plt.title(\"Cumulative Weights\")\n",
    "plt.legend(cumulative_weights.columns[1:])\n",
    "plt.show()"
   ]
  },
  {
   "cell_type": "code",
   "execution_count": 86,
   "metadata": {},
   "outputs": [],
   "source": [
    "#Near PSD Matrix\n",
    "def near_psd(a, epsilon=0.0):\n",
    "    n = a.shape[0]\n",
    "\n",
    "    invSD = None\n",
    "    out = np.copy(a)\n",
    "\n",
    "    #calculate the correlation matrix if we got a covariance\n",
    "    if (np.diag(out) != 1.0).sum() != n:\n",
    "        invSD = np.diag(1 / np.sqrt(np.diag(out)))\n",
    "        out = invSD @ out @ invSD\n",
    "    \n",
    "    #SVD, update the eigen value and scale\n",
    "    vals, vecs = np.linalg.eig(out)\n",
    "    vals = np.maximum(vals,epsilon)\n",
    "    T = 1 / (vecs * vals * vecs)\n",
    "    T = np.diag(np.sqrt(T))\n",
    "    l = np.diag(np.sqrt(vals))\n",
    "    B = T @ vecs @ l\n",
    "    out = B @ B.T\n",
    "\n",
    "    #Add back the variance\n",
    "    if invSD is not None:\n",
    "        invSD = np.diag(1 / np.diag(invSD))\n",
    "        out = invSD @ out @ invSD\n",
    "    return out\n",
    "\n",
    "#near_pairwise = near_psd(pairwise)"
   ]
  },
  {
   "cell_type": "code",
   "execution_count": 87,
   "metadata": {},
   "outputs": [],
   "source": [
    "def simulate_pca(a, nsim, nval=None):\n",
    "    # Eigenvalue decomposition\n",
    "    vals, vecs = np.linalg.eig(a)\n",
    "\n",
    "    # Sort the eigenvalues and corresponding eigenvectors in descending order\n",
    "    idx = np.argsort(-vals)\n",
    "    vals = vals[idx]\n",
    "    vecs = vecs[:, idx]\n",
    "\n",
    "    tv = np.sum(vals)\n",
    "\n",
    "    posv = np.where(vals >= 1e-8)[0]\n",
    "    if nval is not None:\n",
    "        if nval < len(posv):\n",
    "            posv = posv[:nval]\n",
    "    vals = vals[posv]\n",
    "    vecs = vecs[:, posv]\n",
    "\n",
    "    print(\"Simulating with {} PC Factors: {:.2f}% total variance explained\".format(len(posv), np.sum(vals)/tv*100))\n",
    "    B = vecs @ np.diag(np.sqrt(vals))\n",
    "\n",
    "    m = B.shape[1]\n",
    "    r = np.random.randn(m, nsim)\n",
    "    print(B)\n",
    "\n",
    "    return np.dot(B, r).T"
   ]
  },
  {
   "cell_type": "code",
   "execution_count": 88,
   "metadata": {},
   "outputs": [
    {
     "data": {
      "text/plain": [
       "array([[0.25 , 0.25 , 0.225, 0.225, 0.225],\n",
       "       [0.25 , 0.25 , 0.225, 0.225, 0.225],\n",
       "       [0.225, 0.225, 0.25 , 0.225, 0.225],\n",
       "       [0.225, 0.225, 0.225, 0.25 , 0.225],\n",
       "       [0.225, 0.225, 0.225, 0.225, 0.25 ]])"
      ]
     },
     "execution_count": 88,
     "metadata": {},
     "output_type": "execute_result"
    }
   ],
   "source": [
    "n = 5\n",
    "sigma = np.full((n,n), 0.9)\n",
    "np.fill_diagonal(sigma, 1.0)\n",
    "\n",
    "sigma[0,1]=1\n",
    "sigma[1,0]=1\n",
    "\n",
    "v = np.diag(np.full(n, 0.5))\n",
    "sigma = v @ sigma @ v\n",
    "sigma"
   ]
  },
  {
   "cell_type": "code",
   "execution_count": 89,
   "metadata": {},
   "outputs": [
    {
     "name": "stdout",
     "output_type": "stream",
     "text": [
      "Simulating with 4 PC Factors: 100.00% total variance explained\n",
      "[[-4.88112864e-01  1.08378192e-01 -4.06381308e-19  1.67555306e-18]\n",
      " [-4.88112864e-01  1.08378192e-01 -2.89891900e-18  1.19525493e-17]\n",
      " [-4.77362747e-01 -7.38792316e-02 -3.13112146e-02  1.29099445e-01]\n",
      " [-4.77362747e-01 -7.38792316e-02 -9.28096216e-02 -6.45497224e-02]\n",
      " [-4.77362747e-01 -7.38792316e-02  1.24120836e-01 -6.45497224e-02]]\n"
     ]
    },
    {
     "data": {
      "text/plain": [
       "array([[0.25000387, 0.25000387, 0.22568664, 0.22622969, 0.22670428],\n",
       "       [0.25000387, 0.25000387, 0.22568664, 0.22622969, 0.22670428],\n",
       "       [0.22568664, 0.22568664, 0.25236855, 0.22943031, 0.22297936],\n",
       "       [0.22622969, 0.22622969, 0.22943031, 0.24904303, 0.22910988],\n",
       "       [0.22670428, 0.22670428, 0.22297936, 0.22910988, 0.25605789]])"
      ]
     },
     "execution_count": 89,
     "metadata": {},
     "output_type": "execute_result"
    }
   ],
   "source": [
    "sim = simulate_pca(sigma, 10000)\n",
    "np.cov(sim.T)"
   ]
  }
 ],
 "metadata": {
  "kernelspec": {
   "display_name": "Python 3.9.12 ('base')",
   "language": "python",
   "name": "python3"
  },
  "language_info": {
   "codemirror_mode": {
    "name": "ipython",
    "version": 3
   },
   "file_extension": ".py",
   "mimetype": "text/x-python",
   "name": "python",
   "nbconvert_exporter": "python",
   "pygments_lexer": "ipython3",
   "version": "3.9.12"
  },
  "orig_nbformat": 4,
  "vscode": {
   "interpreter": {
    "hash": "bada05c741908938772dd81041b6c561c9f7d1f74c82862b4ca2e2d664fb5f14"
   }
  }
 },
 "nbformat": 4,
 "nbformat_minor": 2
}
